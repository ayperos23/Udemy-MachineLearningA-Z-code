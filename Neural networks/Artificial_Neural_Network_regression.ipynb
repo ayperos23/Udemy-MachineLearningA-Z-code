{
  "nbformat": 4,
  "nbformat_minor": 0,
  "metadata": {
    "colab": {
      "name": "Artificial Neural Network - regression",
      "provenance": [],
      "collapsed_sections": []
    },
    "kernelspec": {
      "name": "python3",
      "display_name": "Python 3"
    }
  },
  "cells": [
    {
      "cell_type": "markdown",
      "metadata": {
        "id": "3cbb7fRy-eyr",
        "colab_type": "text"
      },
      "source": [
        "# Artificial Neural Network"
      ]
    },
    {
      "cell_type": "markdown",
      "metadata": {
        "id": "8sNDnxE2-pwE",
        "colab_type": "text"
      },
      "source": [
        "### Importing the libraries"
      ]
    },
    {
      "cell_type": "code",
      "metadata": {
        "id": "cBiTjS9s6Jdc",
        "colab_type": "code",
        "colab": {}
      },
      "source": [
        "import numpy as np\n",
        "import pandas as pd\n",
        "import tensorflow as tf"
      ],
      "execution_count": null,
      "outputs": []
    },
    {
      "cell_type": "code",
      "metadata": {
        "id": "Hyy0SHr_6V_B",
        "colab_type": "code",
        "colab": {
          "base_uri": "https://localhost:8080/",
          "height": 35
        },
        "outputId": "d6c3aca4-2ccd-4f80-95aa-59b25217708d"
      },
      "source": [
        "tf.__version__"
      ],
      "execution_count": null,
      "outputs": [
        {
          "output_type": "execute_result",
          "data": {
            "text/plain": [
              "'2.2.0'"
            ]
          },
          "metadata": {
            "tags": []
          },
          "execution_count": 8
        }
      ]
    },
    {
      "cell_type": "markdown",
      "metadata": {
        "id": "AG3FQEch-yuA",
        "colab_type": "text"
      },
      "source": [
        "## Part 1 - Data Preprocessing"
      ]
    },
    {
      "cell_type": "markdown",
      "metadata": {
        "id": "-4zq8Mza_D9O",
        "colab_type": "text"
      },
      "source": [
        "### Importing the dataset"
      ]
    },
    {
      "cell_type": "code",
      "metadata": {
        "id": "A9jSHwkH6O4L",
        "colab_type": "code",
        "colab": {}
      },
      "source": [
        "dataset = pd.read_excel('Folds5x2_pp.xlsx') #power plant data set\n",
        "# - Temperature (T) in the range 1.81°C and 37.11°C,\n",
        "# - Ambient Pressure (AP) in the range 992.89-1033.30 milibar,\n",
        "# - Relative Humidity (RH) in the range 25.56% to 100.16%\n",
        "# - Exhaust Vacuum (V) in teh range 25.36-81.56 cm Hg\n",
        "# - Net hourly electrical energy output (EP) 420.26-495.76 MW\n",
        "x = dataset.iloc[:,:-1].values\n",
        "y = dataset.iloc[:,-1].values"
      ],
      "execution_count": null,
      "outputs": []
    },
    {
      "cell_type": "markdown",
      "metadata": {
        "id": "VC6omXel_Up0",
        "colab_type": "text"
      },
      "source": [
        "### Splitting the dataset into the Training set and Test set"
      ]
    },
    {
      "cell_type": "code",
      "metadata": {
        "id": "Rw9dpYL08_XX",
        "colab_type": "code",
        "colab": {}
      },
      "source": [
        "from sklearn.model_selection import train_test_split\n",
        "X_train, X_test, y_train, y_test = train_test_split(x,y, test_size = 0.2, random_state = 1)"
      ],
      "execution_count": null,
      "outputs": []
    },
    {
      "cell_type": "markdown",
      "metadata": {
        "id": "_mSLlAT9_eyI",
        "colab_type": "text"
      },
      "source": [
        "## Part 2 - Building the ANN"
      ]
    },
    {
      "cell_type": "markdown",
      "metadata": {
        "id": "CsBULd_f_wLY",
        "colab_type": "text"
      },
      "source": [
        "### Initializing the ANN"
      ]
    },
    {
      "cell_type": "code",
      "metadata": {
        "id": "YJlfYXZ6Axw8",
        "colab_type": "code",
        "colab": {}
      },
      "source": [
        "#creating sequential class object\n",
        "ann = tf.keras.models.Sequential()"
      ],
      "execution_count": null,
      "outputs": []
    },
    {
      "cell_type": "markdown",
      "metadata": {
        "id": "iitAFJS_ABUn",
        "colab_type": "text"
      },
      "source": [
        "### Adding the input layer and the first hidden layer"
      ]
    },
    {
      "cell_type": "code",
      "metadata": {
        "id": "Fqdj7vwvBj4w",
        "colab_type": "code",
        "colab": {}
      },
      "source": [
        "ann.add(tf.keras.layers.Dense(units = 6, activation = 'relu'))"
      ],
      "execution_count": null,
      "outputs": []
    },
    {
      "cell_type": "markdown",
      "metadata": {
        "id": "-lb4kK_wAKbs",
        "colab_type": "text"
      },
      "source": [
        "### Adding the second hidden layer"
      ]
    },
    {
      "cell_type": "code",
      "metadata": {
        "id": "RMZ2p72DDmk7",
        "colab_type": "code",
        "colab": {}
      },
      "source": [
        "ann.add(tf.keras.layers.Dense(units = 6, activation = 'relu'))"
      ],
      "execution_count": null,
      "outputs": []
    },
    {
      "cell_type": "markdown",
      "metadata": {
        "id": "jwMOmKb3AdBY",
        "colab_type": "text"
      },
      "source": [
        "### Adding the output layer"
      ]
    },
    {
      "cell_type": "code",
      "metadata": {
        "id": "WxxM4Fp3DnOv",
        "colab_type": "code",
        "colab": {}
      },
      "source": [
        "ann.add(tf.keras.layers.Dense(units = 1))"
      ],
      "execution_count": null,
      "outputs": []
    },
    {
      "cell_type": "markdown",
      "metadata": {
        "id": "fq7e4fF6A1yy",
        "colab_type": "text"
      },
      "source": [
        "## Part 3 - Training the ANN"
      ]
    },
    {
      "cell_type": "markdown",
      "metadata": {
        "id": "qDeylAs2An25",
        "colab_type": "text"
      },
      "source": [
        "### Compiling the ANN"
      ]
    },
    {
      "cell_type": "code",
      "metadata": {
        "id": "Wog6XlB3IlKS",
        "colab_type": "code",
        "colab": {}
      },
      "source": [
        "ann.compile(optimizer = 'Adam', loss = 'mean_squared_error')"
      ],
      "execution_count": null,
      "outputs": []
    },
    {
      "cell_type": "markdown",
      "metadata": {
        "id": "YjVuiybYOo7r",
        "colab_type": "text"
      },
      "source": [
        "### Training the ANN model on the Training set"
      ]
    },
    {
      "cell_type": "code",
      "metadata": {
        "id": "wnJUk5bSJAyn",
        "colab_type": "code",
        "colab": {
          "base_uri": "https://localhost:8080/",
          "height": 1000
        },
        "outputId": "c6795277-899f-4fa6-9d3c-cf1362c563d1"
      },
      "source": [
        "ann.fit(X_train,y_train, epochs = 100, batch_size = 32)"
      ],
      "execution_count": null,
      "outputs": [
        {
          "output_type": "stream",
          "text": [
            "Epoch 1/100\n",
            "240/240 [==============================] - 0s 1ms/step - loss: 191882.8438\n",
            "Epoch 2/100\n",
            "240/240 [==============================] - 0s 1ms/step - loss: 943.6982\n",
            "Epoch 3/100\n",
            "240/240 [==============================] - 0s 1ms/step - loss: 531.9436\n",
            "Epoch 4/100\n",
            "240/240 [==============================] - 0s 1ms/step - loss: 352.9380\n",
            "Epoch 5/100\n",
            "240/240 [==============================] - 0s 1ms/step - loss: 263.5539\n",
            "Epoch 6/100\n",
            "240/240 [==============================] - 0s 1ms/step - loss: 252.7451\n",
            "Epoch 7/100\n",
            "240/240 [==============================] - 0s 1ms/step - loss: 241.2544\n",
            "Epoch 8/100\n",
            "240/240 [==============================] - 0s 1ms/step - loss: 228.6761\n",
            "Epoch 9/100\n",
            "240/240 [==============================] - 0s 943us/step - loss: 215.2131\n",
            "Epoch 10/100\n",
            "240/240 [==============================] - 0s 1ms/step - loss: 200.3455\n",
            "Epoch 11/100\n",
            "240/240 [==============================] - 0s 1ms/step - loss: 184.9696\n",
            "Epoch 12/100\n",
            "240/240 [==============================] - 0s 1ms/step - loss: 168.7654\n",
            "Epoch 13/100\n",
            "240/240 [==============================] - 0s 1ms/step - loss: 152.2990\n",
            "Epoch 14/100\n",
            "240/240 [==============================] - 0s 1000us/step - loss: 135.9120\n",
            "Epoch 15/100\n",
            "240/240 [==============================] - 0s 951us/step - loss: 119.6385\n",
            "Epoch 16/100\n",
            "240/240 [==============================] - 0s 913us/step - loss: 104.0995\n",
            "Epoch 17/100\n",
            "240/240 [==============================] - 0s 925us/step - loss: 89.3111\n",
            "Epoch 18/100\n",
            "240/240 [==============================] - 0s 941us/step - loss: 76.3683\n",
            "Epoch 19/100\n",
            "240/240 [==============================] - 0s 931us/step - loss: 65.1495\n",
            "Epoch 20/100\n",
            "240/240 [==============================] - 0s 950us/step - loss: 55.7434\n",
            "Epoch 21/100\n",
            "240/240 [==============================] - 0s 929us/step - loss: 48.3888\n",
            "Epoch 22/100\n",
            "240/240 [==============================] - 0s 935us/step - loss: 43.0264\n",
            "Epoch 23/100\n",
            "240/240 [==============================] - 0s 992us/step - loss: 39.1543\n",
            "Epoch 24/100\n",
            "240/240 [==============================] - 0s 1ms/step - loss: 37.0208\n",
            "Epoch 25/100\n",
            "240/240 [==============================] - 0s 1ms/step - loss: 35.2305\n",
            "Epoch 26/100\n",
            "240/240 [==============================] - 0s 938us/step - loss: 34.3980\n",
            "Epoch 27/100\n",
            "240/240 [==============================] - 0s 952us/step - loss: 33.7284\n",
            "Epoch 28/100\n",
            "240/240 [==============================] - 0s 917us/step - loss: 33.1358\n",
            "Epoch 29/100\n",
            "240/240 [==============================] - 0s 1ms/step - loss: 33.0406\n",
            "Epoch 30/100\n",
            "240/240 [==============================] - 0s 1ms/step - loss: 32.5913\n",
            "Epoch 31/100\n",
            "240/240 [==============================] - 0s 999us/step - loss: 32.2006\n",
            "Epoch 32/100\n",
            "240/240 [==============================] - 0s 926us/step - loss: 32.1792\n",
            "Epoch 33/100\n",
            "240/240 [==============================] - 0s 950us/step - loss: 31.3058\n",
            "Epoch 34/100\n",
            "240/240 [==============================] - 0s 920us/step - loss: 31.7700\n",
            "Epoch 35/100\n",
            "240/240 [==============================] - 0s 942us/step - loss: 31.1094\n",
            "Epoch 36/100\n",
            "240/240 [==============================] - 0s 978us/step - loss: 30.7617\n",
            "Epoch 37/100\n",
            "240/240 [==============================] - 0s 1ms/step - loss: 29.9144\n",
            "Epoch 38/100\n",
            "240/240 [==============================] - 0s 1ms/step - loss: 29.4651\n",
            "Epoch 39/100\n",
            "240/240 [==============================] - 0s 1ms/step - loss: 29.5652\n",
            "Epoch 40/100\n",
            "240/240 [==============================] - 0s 1ms/step - loss: 29.1854\n",
            "Epoch 41/100\n",
            "240/240 [==============================] - 0s 1ms/step - loss: 28.8185\n",
            "Epoch 42/100\n",
            "240/240 [==============================] - 0s 1ms/step - loss: 28.7870\n",
            "Epoch 43/100\n",
            "240/240 [==============================] - 0s 1ms/step - loss: 28.8380\n",
            "Epoch 44/100\n",
            "240/240 [==============================] - 0s 1ms/step - loss: 28.6036\n",
            "Epoch 45/100\n",
            "240/240 [==============================] - 0s 1ms/step - loss: 28.3642\n",
            "Epoch 46/100\n",
            "240/240 [==============================] - 0s 1ms/step - loss: 27.8994\n",
            "Epoch 47/100\n",
            "240/240 [==============================] - 0s 1ms/step - loss: 27.2984\n",
            "Epoch 48/100\n",
            "240/240 [==============================] - 0s 1ms/step - loss: 27.5616\n",
            "Epoch 49/100\n",
            "240/240 [==============================] - 0s 1ms/step - loss: 28.2219\n",
            "Epoch 50/100\n",
            "240/240 [==============================] - 0s 1ms/step - loss: 27.4790\n",
            "Epoch 51/100\n",
            "240/240 [==============================] - 0s 1ms/step - loss: 27.4911\n",
            "Epoch 52/100\n",
            "240/240 [==============================] - 0s 1ms/step - loss: 27.6004\n",
            "Epoch 53/100\n",
            "240/240 [==============================] - 0s 1ms/step - loss: 27.1219\n",
            "Epoch 54/100\n",
            "240/240 [==============================] - 0s 1ms/step - loss: 26.9645\n",
            "Epoch 55/100\n",
            "240/240 [==============================] - 0s 1ms/step - loss: 27.1567\n",
            "Epoch 56/100\n",
            "240/240 [==============================] - 0s 1ms/step - loss: 26.6059\n",
            "Epoch 57/100\n",
            "240/240 [==============================] - 0s 1ms/step - loss: 27.5374\n",
            "Epoch 58/100\n",
            "240/240 [==============================] - 0s 1ms/step - loss: 27.1995\n",
            "Epoch 59/100\n",
            "240/240 [==============================] - 0s 1ms/step - loss: 27.7231\n",
            "Epoch 60/100\n",
            "240/240 [==============================] - 0s 1ms/step - loss: 27.2746\n",
            "Epoch 61/100\n",
            "240/240 [==============================] - 0s 1ms/step - loss: 27.6613\n",
            "Epoch 62/100\n",
            "240/240 [==============================] - 0s 1ms/step - loss: 26.9605\n",
            "Epoch 63/100\n",
            "240/240 [==============================] - 0s 1ms/step - loss: 26.8127\n",
            "Epoch 64/100\n",
            "240/240 [==============================] - 0s 1ms/step - loss: 27.2105\n",
            "Epoch 65/100\n",
            "240/240 [==============================] - 0s 1ms/step - loss: 27.5385\n",
            "Epoch 66/100\n",
            "240/240 [==============================] - 0s 1ms/step - loss: 26.8022\n",
            "Epoch 67/100\n",
            "240/240 [==============================] - 0s 1ms/step - loss: 26.7656\n",
            "Epoch 68/100\n",
            "240/240 [==============================] - 0s 1ms/step - loss: 26.9848\n",
            "Epoch 69/100\n",
            "240/240 [==============================] - 0s 1ms/step - loss: 26.9208\n",
            "Epoch 70/100\n",
            "240/240 [==============================] - 0s 1ms/step - loss: 26.9417\n",
            "Epoch 71/100\n",
            "240/240 [==============================] - 0s 1ms/step - loss: 26.7022\n",
            "Epoch 72/100\n",
            "240/240 [==============================] - 0s 1ms/step - loss: 26.9291\n",
            "Epoch 73/100\n",
            "240/240 [==============================] - 0s 1ms/step - loss: 26.9610\n",
            "Epoch 74/100\n",
            "240/240 [==============================] - 0s 1ms/step - loss: 26.7531\n",
            "Epoch 75/100\n",
            "240/240 [==============================] - 0s 1ms/step - loss: 27.4855\n",
            "Epoch 76/100\n",
            "240/240 [==============================] - 0s 1ms/step - loss: 26.8579\n",
            "Epoch 77/100\n",
            "240/240 [==============================] - 0s 985us/step - loss: 26.5609\n",
            "Epoch 78/100\n",
            "240/240 [==============================] - 0s 953us/step - loss: 26.7695\n",
            "Epoch 79/100\n",
            "240/240 [==============================] - 0s 950us/step - loss: 26.8940\n",
            "Epoch 80/100\n",
            "240/240 [==============================] - 0s 960us/step - loss: 26.7336\n",
            "Epoch 81/100\n",
            "240/240 [==============================] - 0s 932us/step - loss: 26.8979\n",
            "Epoch 82/100\n",
            "240/240 [==============================] - 0s 972us/step - loss: 26.6711\n",
            "Epoch 83/100\n",
            "240/240 [==============================] - 0s 926us/step - loss: 27.3506\n",
            "Epoch 84/100\n",
            "240/240 [==============================] - 0s 928us/step - loss: 26.6180\n",
            "Epoch 85/100\n",
            "240/240 [==============================] - 0s 1ms/step - loss: 26.7500\n",
            "Epoch 86/100\n",
            "240/240 [==============================] - 0s 933us/step - loss: 27.3711\n",
            "Epoch 87/100\n",
            "240/240 [==============================] - 0s 945us/step - loss: 27.1621\n",
            "Epoch 88/100\n",
            "240/240 [==============================] - 0s 1ms/step - loss: 26.5814\n",
            "Epoch 89/100\n",
            "240/240 [==============================] - 0s 944us/step - loss: 26.8276\n",
            "Epoch 90/100\n",
            "240/240 [==============================] - 0s 926us/step - loss: 27.3604\n",
            "Epoch 91/100\n",
            "240/240 [==============================] - 0s 969us/step - loss: 27.8010\n",
            "Epoch 92/100\n",
            "240/240 [==============================] - 0s 1ms/step - loss: 27.0212\n",
            "Epoch 93/100\n",
            "240/240 [==============================] - 0s 939us/step - loss: 26.6725\n",
            "Epoch 94/100\n",
            "240/240 [==============================] - 0s 922us/step - loss: 26.6007\n",
            "Epoch 95/100\n",
            "240/240 [==============================] - 0s 926us/step - loss: 27.0625\n",
            "Epoch 96/100\n",
            "240/240 [==============================] - 0s 956us/step - loss: 26.5340\n",
            "Epoch 97/100\n",
            "240/240 [==============================] - 0s 961us/step - loss: 26.9215\n",
            "Epoch 98/100\n",
            "240/240 [==============================] - 0s 948us/step - loss: 27.0279\n",
            "Epoch 99/100\n",
            "240/240 [==============================] - 0s 1ms/step - loss: 26.9505\n",
            "Epoch 100/100\n",
            "240/240 [==============================] - 0s 1ms/step - loss: 26.5578\n"
          ],
          "name": "stdout"
        },
        {
          "output_type": "execute_result",
          "data": {
            "text/plain": [
              "<tensorflow.python.keras.callbacks.History at 0x7fdaff823400>"
            ]
          },
          "metadata": {
            "tags": []
          },
          "execution_count": 18
        }
      ]
    },
    {
      "cell_type": "markdown",
      "metadata": {
        "id": "0H0zKKNEBLD5",
        "colab_type": "text"
      },
      "source": [
        "### Predicting the results of the Test set"
      ]
    },
    {
      "cell_type": "code",
      "metadata": {
        "id": "lwOkMiPfKROh",
        "colab_type": "code",
        "colab": {
          "base_uri": "https://localhost:8080/",
          "height": 144
        },
        "outputId": "dd7886bc-6d36-4391-822b-c096fc8a1427"
      },
      "source": [
        "y_pred = ann.predict(X_test)\n",
        "np.set_printoptions(precision = 2)\n",
        "print(np.concatenate((y_pred.reshape(len(y_pred),1), y_test.reshape(len(y_test),1)),1))\n"
      ],
      "execution_count": null,
      "outputs": [
        {
          "output_type": "stream",
          "text": [
            "[[453.17 458.96]\n",
            " [462.23 463.29]\n",
            " [437.67 435.27]\n",
            " ...\n",
            " [477.13 476.22]\n",
            " [423.48 440.29]\n",
            " [464.5  467.92]]\n"
          ],
          "name": "stdout"
        }
      ]
    }
  ]
}